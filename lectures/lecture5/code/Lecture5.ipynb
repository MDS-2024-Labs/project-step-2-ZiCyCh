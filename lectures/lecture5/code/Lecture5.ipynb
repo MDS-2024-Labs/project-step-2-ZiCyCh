{
 "cells": [
  {
   "cell_type": "code",
   "execution_count": null,
   "id": "99b2ec7a",
   "metadata": {},
   "outputs": [],
   "source": [
    "import unittest\n",
    "import calculator as cal\n",
    "class TestCalculator(unittest.TestCase): # test class\n",
    "    def test_addition(self):     # test case\n",
    "        self.assertEqual(cal.addition(10, 10), 20)\n",
    "        self.assertEqual(cal.addition(-10, 10), 0)\n",
    "        self.assertEqual(cal.addition(10, -10), 0)\n",
    "    def test_subtraction(self): # test case\n",
    "        self.assertEqual(cal.subtraction(10, 10), 0)\n",
    "        self.assertEqual(cal.subtraction(-10, 10), -20)\n",
    "        self.assertEqual(cal.subtraction(-10, -10), 0)\n",
    "unittest.main(argv=[''], verbosity=2, exit=False)\n"
   ]
  },
  {
   "cell_type": "code",
   "execution_count": null,
   "id": "f27f910f",
   "metadata": {
    "scrolled": true
   },
   "outputs": [],
   "source": [
    "import unittest\n",
    "from person import Person\n",
    "class TestPerson(unittest.TestCase):\n",
    "    def test_set_name(self):\n",
    "        p1 = Person('Alex',20)\n",
    "        p2 = Person('William',25)  \n",
    "        p1.set_name('Ana')\n",
    "        p2.set_name('Dave')\n",
    "        \n",
    "        self.assertEqual(p1.name,'Ana')\n",
    "        self.assertEqual(p2.name,'Dave')\n",
    "        \n",
    "    def test_set_age(self):\n",
    "        p1 = Person('Alex',20)\n",
    "        p2 = Person('William',25)\n",
    "        p1.set_age(22)\n",
    "        p2.set_age(25)\n",
    "        \n",
    "        self.assertEqual(p1.age,22)\n",
    "        self.assertEqual(p2.age,25)\n",
    "\n",
    "    def test_display(self):\n",
    "        p1 = Person('Alex',20)\n",
    "        p2 = Person('William',25)\n",
    "        \n",
    "        self.assertEqual(p1.display(),'Alex 20')\n",
    "        self.assertEqual(p2.display(),'William 25')\n",
    "    \n",
    "        \n",
    "        \n",
    "unittest.main(argv=[''], verbosity=2, exit=False)\n"
   ]
  },
  {
   "cell_type": "code",
   "execution_count": null,
   "id": "fdf7f653",
   "metadata": {
    "scrolled": true
   },
   "outputs": [],
   "source": [
    "import unittest\n",
    "from person import Person\n",
    "class TestPerson(unittest.TestCase):\n",
    "    \n",
    "    def setUp(self): # Setting up for the test \n",
    "        self.p1 = Person('Alex',20)\n",
    "        self.p2 = Person('William',25)\n",
    "\n",
    "    def test_set_name(self): # test routine\n",
    "        self.p1.set_name('Ana')\n",
    "        self.p2.set_name('Dave')\n",
    "        self.assertEqual(self.p1.name,'Ana')\n",
    "        self.assertEqual(self.p2.name,'Dave')\n",
    "\n",
    "    def test_set_age(self): # test routine\n",
    "        self.p1.set_age(22)\n",
    "        self.p2.set_age(25)\n",
    "        self.assertEqual(self.p1.age,22)\n",
    "        self.assertEqual(self.p2.age,25)\n",
    "    \n",
    "unittest.main(argv=[''], verbosity=2, exit=False)\n"
   ]
  },
  {
   "cell_type": "code",
   "execution_count": null,
   "id": "067239ca",
   "metadata": {
    "scrolled": true
   },
   "outputs": [],
   "source": [
    "import unittest\n",
    "from person import Person\n",
    "class TestPerson(unittest.TestCase):\n",
    "    def setUp(self):\n",
    "        print('Set up')\n",
    "    def tearDown(self):\n",
    "        print('Tear Down')\n",
    "    def test_set_name(self):\n",
    "        print('Name')\n",
    "    def test_set_age(self):\n",
    "        print('Age')\n",
    "    def test_display(self):\n",
    "        print('Display')\n",
    "\n",
    "unittest.main(argv=[''], verbosity=2, exit=False)"
   ]
  },
  {
   "cell_type": "code",
   "execution_count": null,
   "id": "9fe6624e",
   "metadata": {
    "scrolled": true
   },
   "outputs": [],
   "source": [
    "import unittest\n",
    "from person import Person\n",
    "class TestPerson(unittest.TestCase):\n",
    "    @classmethod\n",
    "    def setUpClass(cls):\n",
    "        print('setupClass')\n",
    "    def setUp(self):\n",
    "        print('Set up')\n",
    "    def tearDown(self):\n",
    "        print('Tear Down')\n",
    "    def test_set_name(self):\n",
    "        print('Name')\n",
    "    def test_set_age(self):\n",
    "        print('Age')\n",
    "    def test_display(self):\n",
    "        print('Display')\n",
    "    @classmethod\n",
    "    def tearDownClass(cls):\n",
    "        print('teardownClass')\n",
    "\n",
    "\n",
    "unittest.main(argv=[''], verbosity=2, exit=False)"
   ]
  },
  {
   "cell_type": "code",
   "execution_count": 1,
   "id": "79c0bd75",
   "metadata": {
    "scrolled": true
   },
   "outputs": [
    {
     "name": "stderr",
     "output_type": "stream",
     "text": [
      ".."
     ]
    },
    {
     "name": "stdout",
     "output_type": "stream",
     "text": [
      "<unittest.runner.TextTestResult run=2 errors=0 failures=0>\n"
     ]
    },
    {
     "name": "stderr",
     "output_type": "stream",
     "text": [
      "\n",
      "----------------------------------------------------------------------\n",
      "Ran 2 tests in 0.002s\n",
      "\n",
      "OK\n"
     ]
    }
   ],
   "source": [
    "import unittest\n",
    "from TestModule1 import TestAdd\n",
    "from TestModule2 import TestSub\n",
    "def my_suite():\n",
    "    suite = unittest.TestSuite()\n",
    "    result = unittest.TestResult()\n",
    "    suite.addTest(unittest.makeSuite(TestAdd))\n",
    "    suite.addTest(unittest.makeSuite(TestSub))\n",
    "    runner = unittest.TextTestRunner()\n",
    "    print(runner.run(suite))\n",
    "my_suite()\n"
   ]
  },
  {
   "cell_type": "code",
   "execution_count": null,
   "id": "66df8e75",
   "metadata": {},
   "outputs": [],
   "source": []
  }
 ],
 "metadata": {
  "kernelspec": {
   "display_name": "Python 3",
   "language": "python",
   "name": "python3"
  },
  "language_info": {
   "codemirror_mode": {
    "name": "ipython",
    "version": 3
   },
   "file_extension": ".py",
   "mimetype": "text/x-python",
   "name": "python",
   "nbconvert_exporter": "python",
   "pygments_lexer": "ipython3",
   "version": "3.8.8"
  }
 },
 "nbformat": 4,
 "nbformat_minor": 5
}
