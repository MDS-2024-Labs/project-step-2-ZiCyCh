{
 "cells": [
  {
   "cell_type": "code",
   "execution_count": 2,
   "id": "b9a9498b",
   "metadata": {},
   "outputs": [
    {
     "name": "stdout",
     "output_type": "stream",
     "text": [
      "39\n"
     ]
    }
   ],
   "source": [
    "from mypackage.subpkg1.mod1 import addition\n",
    "\n",
    "print(addition(10,29))"
   ]
  },
  {
   "cell_type": "code",
   "execution_count": 5,
   "id": "e6dbee9c",
   "metadata": {},
   "outputs": [
    {
     "name": "stderr",
     "output_type": "stream",
     "text": [
      "..\n",
      "----------------------------------------------------------------------\n",
      "Ran 2 tests in 0.004s\n",
      "\n",
      "OK\n"
     ]
    },
    {
     "name": "stdout",
     "output_type": "stream",
     "text": [
      "<unittest.runner.TextTestResult run=2 errors=0 failures=0>\n"
     ]
    }
   ],
   "source": [
    "import unittest\n",
    "from mytest.TestModule1 import TestAdd\n",
    "from mytest.TestModule2 import TestSub\n",
    "def my_suite():\n",
    "    suite = unittest.TestSuite()\n",
    "    result = unittest.TestResult()\n",
    "    suite.addTest(TestAdd('test_addition'))\n",
    "    suite.addTest(TestSub('test_subtraction'))\n",
    "    runner = unittest.TextTestRunner()\n",
    "    print(runner.run(suite))\n",
    "my_suite()\n"
   ]
  },
  {
   "cell_type": "code",
   "execution_count": null,
   "id": "371e937d",
   "metadata": {},
   "outputs": [],
   "source": []
  },
  {
   "cell_type": "code",
   "execution_count": null,
   "id": "966aeda9",
   "metadata": {},
   "outputs": [],
   "source": []
  }
 ],
 "metadata": {
  "kernelspec": {
   "display_name": "Python 3 (ipykernel)",
   "language": "python",
   "name": "python3"
  },
  "language_info": {
   "codemirror_mode": {
    "name": "ipython",
    "version": 3
   },
   "file_extension": ".py",
   "mimetype": "text/x-python",
   "name": "python",
   "nbconvert_exporter": "python",
   "pygments_lexer": "ipython3",
   "version": "3.11.5"
  }
 },
 "nbformat": 4,
 "nbformat_minor": 5
}
